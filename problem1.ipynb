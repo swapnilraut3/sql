{
 "cells": [
  {
   "cell_type": "markdown",
   "metadata": {},
   "source": [
    "### Problem 1\n",
    "**Write a query to find the count for New & Repeat Customers for each order date.**  \n",
    "https://www.linkedin.com/feed/update/urn:li:activity:7112387045758529536/  \n",
    "The scenario in working with one Table : 'repeat_table'  \n",
    "The 'repeat_table' includes customer's id, order date and order amount.\n",
    "\n",
    "![Problem 1](./assets/problem1.jpg)"
   ]
  },
  {
   "cell_type": "code",
   "execution_count": null,
   "metadata": {
    "vscode": {
     "languageId": "sql"
    }
   },
   "outputs": [],
   "source": [
    "CREATE TABLE IF NOT EXISTS REPEAT_TABLE(\n",
    "    order_id INTEGER,\n",
    "    customer_id INTEGER,\n",
    "    order_date DATE,\n",
    "    order_amount FLOAT\n",
    ");"
   ]
  },
  {
   "cell_type": "code",
   "execution_count": null,
   "metadata": {
    "vscode": {
     "languageId": "sql"
    }
   },
   "outputs": [],
   "source": [
    "INSERT INTO REPEAT_TABLE \n",
    "VALUES\n",
    "(1, 100, '01-01-2022', 2000.0),\n",
    "(2, 200, '01-01-2022', 2500.0),\n",
    "(3, 300, '01-01-2022', 2100),\n",
    "(4, 100, '02-01-2022', 2000),\n",
    "(5, 400, '02-01-2022', 2200),\n",
    "(6, 500, '02-01-2022', 2700),\n",
    "(7, 100, '03-01-2022', 3000),\n",
    "(8, 400, '03-01-2022', 1000),\n",
    "(9, 600, '03-01-2022', 3000);\n",
    "```"
   ]
  },
  {
   "cell_type": "code",
   "execution_count": null,
   "metadata": {
    "vscode": {
     "languageId": "sql"
    }
   },
   "outputs": [],
   "source": [
    "WITH CTE AS (\n",
    "  SELECT \n",
    "  \tcustomer_id,\n",
    "  order_date, \n",
    "  \tROW_NUMBER() OVER (PARTITION BY customer_id ORDER BY order_date) as row_num\n",
    "  FROM\n",
    "  \tREPEAT_TABLE\n",
    ")\n",
    "\n",
    "SELECT \n",
    "\torder_date,\n",
    "    SUM(CASE WHEN row_num=1 THEN 1 ELSE 0 END) AS new_customer,\n",
    "    SUM(CASE WHEN row_num>1 THEN 1 ELSE 0 END) AS repeat_customer\n",
    "FROM\n",
    "\tCTE\n",
    "GROUP BY order_date;"
   ]
  },
  {
   "cell_type": "code",
   "execution_count": null,
   "metadata": {
    "vscode": {
     "languageId": "sql"
    }
   },
   "outputs": [],
   "source": []
  }
 ],
 "metadata": {
  "language_info": {
   "name": "python"
  },
  "orig_nbformat": 4
 },
 "nbformat": 4,
 "nbformat_minor": 2
}
